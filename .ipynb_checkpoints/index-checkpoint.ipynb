{
 "cells": [
  {
   "cell_type": "markdown",
   "metadata": {
    "slideshow": {
     "slide_type": "slide"
    }
   },
   "source": [
    "# Niche Strategie Crypto Arbitrage\n",
    "\n",
    "https://submitcode.github.io/FAM_CryptoArbitrage/\n",
    "\n",
    "by Wilhelm Fritsche"
   ]
  },
  {
   "cell_type": "markdown",
   "metadata": {
    "slideshow": {
     "slide_type": "notes"
    }
   },
   "source": [
    "Also was ich hier gemacht habe ich nicht aus kommerziellen Gründen gemacht. Ich verdiende hierbei nichts. Meine Idee ist, dass alle davon profitiern können. "
   ]
  },
  {
   "cell_type": "markdown",
   "metadata": {
    "slideshow": {
     "slide_type": "slide"
    }
   },
   "source": [
    "# Who am I...\n",
    "- study Information Systems\n",
    "- worked 9 years for a CTA \n",
    "- science 2018 head of data science [@inventx](https://inventx.ch/)\n",
    "- [@LinkedIn](https://www.linkedin.com/in/wilhelm-fritsche-cfa-cqf-92786844)\n",
    "- [@Github](https://github.com/submitCode)"
   ]
  },
  {
   "cell_type": "markdown",
   "metadata": {
    "slideshow": {
     "slide_type": "slide"
    }
   },
   "source": [
    "# Agenda \n",
    "\n",
    "1. Overview of the cryptocurrency market\n",
    "2. trading system architecture\n",
    "3. show case of live trading strategy\n",
    "4. lessons learned"
   ]
  },
  {
   "cell_type": "markdown",
   "metadata": {
    "slideshow": {
     "slide_type": "slide"
    }
   },
   "source": [
    "# Why the crypto market matters\n",
    "\n",
    "- [market cap](https://coinmarketcap.com/)\n",
    "- overall it is still becoming more liquid\n",
    "- everyone can participate \n",
    "- 7/24 h trading \n",
    "- market data is for free (even full order book)\n",
    "..."
   ]
  },
  {
   "cell_type": "markdown",
   "metadata": {
    "slideshow": {
     "slide_type": "slide"
    }
   },
   "source": [
    "## about Crypto \n",
    "![cryptochart](coinbase.png)"
   ]
  },
  {
   "cell_type": "markdown",
   "metadata": {
    "slideshow": {
     "slide_type": "slide"
    }
   },
   "source": [
    "# Trading System overview\n",
    "\n",
    "![architecture](architecture.png)\n"
   ]
  },
  {
   "cell_type": "markdown",
   "metadata": {
    "slideshow": {
     "slide_type": "slide"
    }
   },
   "source": [
    "# Live Stragey\n",
    "\n",
    "- Why I reveal the strategy and why does it matter for FAM?\n",
    "- Whats the idea behing it?\n",
    "- PnL"
   ]
  },
  {
   "cell_type": "markdown",
   "metadata": {
    "slideshow": {
     "slide_type": "slide"
    }
   },
   "source": [
    "# Why I reveal my strategy?\n",
    "\n",
    "- It's not very liquid especially for an instituion\n",
    "- there are stumbling blocks when you try to build this system."
   ]
  },
  {
   "cell_type": "markdown",
   "metadata": {
    "slideshow": {
     "slide_type": "slide"
    }
   },
   "source": [
    "# What's the idea behind it?\n",
    "\n",
    "[Bitcoin.de](https://www.bitcoin.de/en/btceur/market)\n",
    "\n",
    "[CoinbasePro](https://pro.coinbase.com/trade/BTC-EUR)"
   ]
  },
  {
   "cell_type": "markdown",
   "metadata": {
    "slideshow": {
     "slide_type": "slide"
    }
   },
   "source": [
    "# lessons learned?\n",
    "- it pays of to play also niche strategies?\n",
    "- the trades can be fully hedged?\n",
    "- such strategies are hard to test especially when your are trading OTC as there is a liqudity premium. \n",
    "- from my experience it pays of when you are patient\n",
    "- the orderbook has lot of information "
   ]
  }
 ],
 "metadata": {
  "celltoolbar": "Slideshow",
  "kernelspec": {
   "display_name": "Python 3",
   "language": "python",
   "name": "python3"
  },
  "language_info": {
   "codemirror_mode": {
    "name": "ipython",
    "version": 3
   },
   "file_extension": ".py",
   "mimetype": "text/x-python",
   "name": "python",
   "nbconvert_exporter": "python",
   "pygments_lexer": "ipython3",
   "version": "3.6.5"
  },
  "toc": {
   "base_numbering": 1,
   "nav_menu": {},
   "number_sections": true,
   "sideBar": true,
   "skip_h1_title": false,
   "title_cell": "Table of Contents",
   "title_sidebar": "Contents",
   "toc_cell": false,
   "toc_position": {},
   "toc_section_display": true,
   "toc_window_display": false
  },
  "varInspector": {
   "cols": {
    "lenName": 16,
    "lenType": 16,
    "lenVar": 40
   },
   "kernels_config": {
    "python": {
     "delete_cmd_postfix": "",
     "delete_cmd_prefix": "del ",
     "library": "var_list.py",
     "varRefreshCmd": "print(var_dic_list())"
    },
    "r": {
     "delete_cmd_postfix": ") ",
     "delete_cmd_prefix": "rm(",
     "library": "var_list.r",
     "varRefreshCmd": "cat(var_dic_list()) "
    }
   },
   "types_to_exclude": [
    "module",
    "function",
    "builtin_function_or_method",
    "instance",
    "_Feature"
   ],
   "window_display": false
  }
 },
 "nbformat": 4,
 "nbformat_minor": 2
}
